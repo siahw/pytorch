{
  "nbformat": 4,
  "nbformat_minor": 0,
  "metadata": {
    "colab": {
      "name": "logistic regression.ipynb",
      "provenance": [],
      "authorship_tag": "ABX9TyPoBucdbUOapdnTcj17hji6",
      "include_colab_link": true
    },
    "kernelspec": {
      "name": "python3",
      "display_name": "Python 3"
    },
    "language_info": {
      "name": "python"
    }
  },
  "cells": [
    {
      "cell_type": "markdown",
      "metadata": {
        "id": "view-in-github",
        "colab_type": "text"
      },
      "source": [
        "<a href=\"https://colab.research.google.com/github/siahw/pytorch/blob/main/logistic_regression.ipynb\" target=\"_parent\"><img src=\"https://colab.research.google.com/assets/colab-badge.svg\" alt=\"Open In Colab\"/></a>"
      ]
    },
    {
      "cell_type": "code",
      "metadata": {
        "id": "_H9rJXuX1y1C"
      },
      "source": [
        "import numpy as np\n",
        "import matplotlib.pyplot as plt\n",
        "%matplotlib inline\n",
        "import math as m\n",
        "from tqdm import tqdm"
      ],
      "execution_count": 44,
      "outputs": []
    },
    {
      "cell_type": "code",
      "metadata": {
        "id": "lU46UFRp2HNZ"
      },
      "source": [
        "def sigmoid(x):\n",
        "  return 1/(1+np.exp(-x))"
      ],
      "execution_count": 45,
      "outputs": []
    },
    {
      "cell_type": "code",
      "metadata": {
        "colab": {
          "base_uri": "https://localhost:8080/"
        },
        "id": "cuIcuinM2R2L",
        "outputId": "1a48b354-3567-4dfd-85c3-6024608ab252"
      },
      "source": [
        "x=np.arange(-5.0,5.0,0.1) #-5.0에서 5.0 사이의 0.1 간격으로 출력\n",
        "print(x)\n",
        "# for i in range(1,10+1), 1에서 10까지 출력"
      ],
      "execution_count": 46,
      "outputs": [
        {
          "output_type": "stream",
          "name": "stdout",
          "text": [
            "[-5.00000000e+00 -4.90000000e+00 -4.80000000e+00 -4.70000000e+00\n",
            " -4.60000000e+00 -4.50000000e+00 -4.40000000e+00 -4.30000000e+00\n",
            " -4.20000000e+00 -4.10000000e+00 -4.00000000e+00 -3.90000000e+00\n",
            " -3.80000000e+00 -3.70000000e+00 -3.60000000e+00 -3.50000000e+00\n",
            " -3.40000000e+00 -3.30000000e+00 -3.20000000e+00 -3.10000000e+00\n",
            " -3.00000000e+00 -2.90000000e+00 -2.80000000e+00 -2.70000000e+00\n",
            " -2.60000000e+00 -2.50000000e+00 -2.40000000e+00 -2.30000000e+00\n",
            " -2.20000000e+00 -2.10000000e+00 -2.00000000e+00 -1.90000000e+00\n",
            " -1.80000000e+00 -1.70000000e+00 -1.60000000e+00 -1.50000000e+00\n",
            " -1.40000000e+00 -1.30000000e+00 -1.20000000e+00 -1.10000000e+00\n",
            " -1.00000000e+00 -9.00000000e-01 -8.00000000e-01 -7.00000000e-01\n",
            " -6.00000000e-01 -5.00000000e-01 -4.00000000e-01 -3.00000000e-01\n",
            " -2.00000000e-01 -1.00000000e-01 -1.77635684e-14  1.00000000e-01\n",
            "  2.00000000e-01  3.00000000e-01  4.00000000e-01  5.00000000e-01\n",
            "  6.00000000e-01  7.00000000e-01  8.00000000e-01  9.00000000e-01\n",
            "  1.00000000e+00  1.10000000e+00  1.20000000e+00  1.30000000e+00\n",
            "  1.40000000e+00  1.50000000e+00  1.60000000e+00  1.70000000e+00\n",
            "  1.80000000e+00  1.90000000e+00  2.00000000e+00  2.10000000e+00\n",
            "  2.20000000e+00  2.30000000e+00  2.40000000e+00  2.50000000e+00\n",
            "  2.60000000e+00  2.70000000e+00  2.80000000e+00  2.90000000e+00\n",
            "  3.00000000e+00  3.10000000e+00  3.20000000e+00  3.30000000e+00\n",
            "  3.40000000e+00  3.50000000e+00  3.60000000e+00  3.70000000e+00\n",
            "  3.80000000e+00  3.90000000e+00  4.00000000e+00  4.10000000e+00\n",
            "  4.20000000e+00  4.30000000e+00  4.40000000e+00  4.50000000e+00\n",
            "  4.60000000e+00  4.70000000e+00  4.80000000e+00  4.90000000e+00]\n"
          ]
        }
      ]
    },
    {
      "cell_type": "code",
      "metadata": {
        "colab": {
          "base_uri": "https://localhost:8080/",
          "height": 283
        },
        "id": "0kbXiaob207x",
        "outputId": "c3849610-7074-4095-b2d2-6c9db75fd0fc"
      },
      "source": [
        "x=np.arange(-5.0,5.0,0.1)\n",
        "y=sigmoid(x)\n",
        "plt.plot(x,y,'b')"
      ],
      "execution_count": 47,
      "outputs": [
        {
          "output_type": "execute_result",
          "data": {
            "text/plain": [
              "[<matplotlib.lines.Line2D at 0x7f9bf1fdd710>]"
            ]
          },
          "metadata": {},
          "execution_count": 47
        },
        {
          "output_type": "display_data",
          "data": {
            "image/png": "[encoded data removed]",
            "text/plain": [
              "<Figure size 432x288 with 1 Axes>"
            ]
          },
          "metadata": {
            "needs_background": "light"
          }
        }
      ]
    },
    {
      "cell_type": "markdown",
      "metadata": {
        "id": "dy4pFob84Ie1"
      },
      "source": [
        "#함수의 모양(W)과 위치(b)를 결정하는 계수\n",
        "#W값에 따른 그래프 모양의 변화"
      ]
    },
    {
      "cell_type": "code",
      "metadata": {
        "colab": {
          "base_uri": "https://localhost:8080/",
          "height": 283
        },
        "id": "QvaObPMi3Ptv",
        "outputId": "58fa7960-3dee-4c74-fe6a-85a42b0f4453"
      },
      "source": [
        "y2=sigmoid(2*x)\n",
        "plt.plot(x,y2,'r')"
      ],
      "execution_count": 48,
      "outputs": [
        {
          "output_type": "execute_result",
          "data": {
            "text/plain": [
              "[<matplotlib.lines.Line2D at 0x7f9bf1fc4690>]"
            ]
          },
          "metadata": {},
          "execution_count": 48
        },
        {
          "output_type": "display_data",
          "data": {
            "image/png": "[encoded data removed]",
            "text/plain": [
              "<Figure size 432x288 with 1 Axes>"
            ]
          },
          "metadata": {
            "needs_background": "light"
          }
        }
      ]
    },
    {
      "cell_type": "code",
      "metadata": {
        "colab": {
          "base_uri": "https://localhost:8080/",
          "height": 283
        },
        "id": "CfoS-3YB3_lT",
        "outputId": "133e73a5-0e31-4055-b229-c4d3a7ef986b"
      },
      "source": [
        "y3=sigmoid(0.5*x)\n",
        "plt.plot(x,y3,'r')"
      ],
      "execution_count": 49,
      "outputs": [
        {
          "output_type": "execute_result",
          "data": {
            "text/plain": [
              "[<matplotlib.lines.Line2D at 0x7f9bf1f2c710>]"
            ]
          },
          "metadata": {},
          "execution_count": 49
        },
        {
          "output_type": "display_data",
          "data": {
            "image/png": "[encoded data removed]",
            "text/plain": [
              "<Figure size 432x288 with 1 Axes>"
            ]
          },
          "metadata": {
            "needs_background": "light"
          }
        }
      ]
    },
    {
      "cell_type": "markdown",
      "metadata": {
        "id": "ynfSAtPn4nNi"
      },
      "source": [
        "#b값에 따른 그래프 모양의 변화"
      ]
    },
    {
      "cell_type": "code",
      "metadata": {
        "id": "mEVRnyvTf8Um"
      },
      "source": [
        "x=np.arange(-5.0,5.0,0.1) #-5.0에서 5.0 사이의 0.1 간격으로 출력\n",
        "y1=sigmoid(x+0.5)\n",
        "y2=sigmoid(x+1)\n",
        "y3=sigmoid(x+1.5)"
      ],
      "execution_count": 50,
      "outputs": []
    },
    {
      "cell_type": "code",
      "metadata": {
        "colab": {
          "base_uri": "https://localhost:8080/",
          "height": 281
        },
        "id": "Vtfb0K9DhxWg",
        "outputId": "2a7e0600-3f4b-477b-e119-e36959253534"
      },
      "source": [
        "plt.plot(x,y1,'r',linestyle='--')#x+0.5\n",
        "plt.plot(x,y2,'g') #x+1\n",
        "plt.plot(x,y3,'b',linestyle='--')#x+1.5\n",
        "plt.plot([0,0],[1.0,0.0],':')#가운데 점선 추가\n",
        "plt.title('Sigmoid Function')\n",
        "plt.show()"
      ],
      "execution_count": 51,
      "outputs": [
        {
          "output_type": "display_data",
          "data": {
            "image/png": "[encoded data removed]",
            "text/plain": [
              "<Figure size 432x288 with 1 Axes>"
            ]
          },
          "metadata": {
            "needs_background": "light"
          }
        }
      ]
    },
    {
      "cell_type": "markdown",
      "metadata": {
        "id": "qZXB1TRX9LDZ"
      },
      "source": [
        "#로지스틱 회귀 구현 해보기"
      ]
    },
    {
      "cell_type": "code",
      "metadata": {
        "id": "DAWVI4fb4uGG"
      },
      "source": [
        "import torch\n",
        "import torch.nn as nn\n",
        "import torch.nn.functional as F\n",
        "import torch.optim as optim"
      ],
      "execution_count": 52,
      "outputs": []
    },
    {
      "cell_type": "code",
      "metadata": {
        "colab": {
          "base_uri": "https://localhost:8080/"
        },
        "id": "B4JdacNm4_gX",
        "outputId": "ebba8c4c-2543-4881-e684-37908ec399f7"
      },
      "source": [
        "torch.manual_seed(1)"
      ],
      "execution_count": 53,
      "outputs": [
        {
          "output_type": "execute_result",
          "data": {
            "text/plain": [
              "<torch._C.Generator at 0x7f9bf308fab0>"
            ]
          },
          "metadata": {},
          "execution_count": 53
        }
      ]
    },
    {
      "cell_type": "code",
      "metadata": {
        "colab": {
          "base_uri": "https://localhost:8080/"
        },
        "id": "gDe_cfbz8Xdd",
        "outputId": "bdbbf6f6-c7c0-41a5-ffdb-daa955e9c1dc"
      },
      "source": [
        "x_data=[[1,2],[2,3],[3,1],[4,3],[5,3],[6,2]]\n",
        "y_data=[[0],[0],[0],[1],[1],[1]]\n",
        "x_train=torch.FloatTensor(x_data)\n",
        "y_train=torch.FloatTensor(y_data)\n",
        "print(x_train.shape)\n",
        "print(y_train.shape)"
      ],
      "execution_count": 54,
      "outputs": [
        {
          "output_type": "stream",
          "name": "stdout",
          "text": [
            "torch.Size([6, 2])\n",
            "torch.Size([6, 1])\n"
          ]
        }
      ]
    },
    {
      "cell_type": "code",
      "metadata": {
        "id": "tGW7aXIc9BaE"
      },
      "source": [
        "W=torch.zeros((2,1),requires_grad=True) #크기는 2x1,Wx를 계산한 결과물이 1차원이 되도록\n",
        "b=torch.zeros(1,requires_grad=True)"
      ],
      "execution_count": 55,
      "outputs": []
    },
    {
      "cell_type": "code",
      "metadata": {
        "id": "-5DXJeOi9pis"
      },
      "source": [
        "h=1/(1+torch.exp(-(x_train.matmul(W)+b)))"
      ],
      "execution_count": 56,
      "outputs": []
    },
    {
      "cell_type": "code",
      "metadata": {
        "colab": {
          "base_uri": "https://localhost:8080/"
        },
        "id": "s22m4aHa9y6m",
        "outputId": "714559d2-28d2-4e40-936e-03907438114d"
      },
      "source": [
        "print(h)"
      ],
      "execution_count": 57,
      "outputs": [
        {
          "output_type": "stream",
          "name": "stdout",
          "text": [
            "tensor([[0.5000],\n",
            "        [0.5000],\n",
            "        [0.5000],\n",
            "        [0.5000],\n",
            "        [0.5000],\n",
            "        [0.5000]], grad_fn=<MulBackward0>)\n"
          ]
        }
      ]
    },
    {
      "cell_type": "code",
      "metadata": {
        "colab": {
          "base_uri": "https://localhost:8080/"
        },
        "id": "80cRGZuT90yN",
        "outputId": "282cab92-3618-4a39-f1ef-f1ad1a56036b"
      },
      "source": [
        "loss=-(y_train*torch.log(h)+(1-y_train)*torch.log(1-h))\n",
        "print(loss)\n",
        "cost=loss.mean()\n",
        "print(cost)"
      ],
      "execution_count": 58,
      "outputs": [
        {
          "output_type": "stream",
          "name": "stdout",
          "text": [
            "tensor([[0.6931],\n",
            "        [0.6931],\n",
            "        [0.6931],\n",
            "        [0.6931],\n",
            "        [0.6931],\n",
            "        [0.6931]], grad_fn=<NegBackward>)\n",
            "tensor(0.6931, grad_fn=<MeanBackward0>)\n"
          ]
        }
      ]
    },
    {
      "cell_type": "code",
      "metadata": {
        "id": "V-STpDmK-ITV"
      },
      "source": [
        "cost= F.binary_cross_entropy(h,y_train)"
      ],
      "execution_count": 59,
      "outputs": []
    },
    {
      "cell_type": "markdown",
      "metadata": {
        "id": "R5nm7s9U-e-A"
      },
      "source": [
        "#학습"
      ]
    },
    {
      "cell_type": "code",
      "metadata": {
        "colab": {
          "base_uri": "https://localhost:8080/"
        },
        "id": "yyRzRNRb-R7z",
        "outputId": "718417f8-cb4f-40c1-93c6-59ef6b3d4ee7"
      },
      "source": [
        "W=torch.zeros((2,1),requires_grad=True) #크기는 2x1,Ax를 계산한 결과물이 1차원이 되도록\n",
        "b=torch.zeros(1,requires_grad=True)\n",
        "optimizer=optim.SGD([W,b],lr=1) #로컬미디멈 문제 해결하기 위해 optimizer를 쓰고, lr은 leraning rate이다\n",
        "num_epochs=1000\n",
        "for epoch in tqdm(range(num_epochs)):\n",
        "  #cost\n",
        "  h=torch.sigmoid(x_train.matmul(W)+b)\n",
        "  cost=F.binary_cross_entropy(h,y_train)\n",
        "\n",
        "#backpropagation\n",
        "optimizer.zero_grad()\n",
        "cost.backward()\n",
        "optimizer.step()\n",
        "\n",
        "#로그 출력\n",
        "if epoch%100==0:\n",
        "  print('Epoch{:4d}/{} Cost:{:,6f}',format(\n",
        "      epoch,num_epochs,cost.item()\n",
        "\n",
        "  ))"
      ],
      "execution_count": 64,
      "outputs": [
        {
          "output_type": "stream",
          "name": "stderr",
          "text": [
            "100%|██████████| 1000/1000 [00:00<00:00, 30060.45it/s]\n"
          ]
        }
      ]
    },
    {
      "cell_type": "code",
      "metadata": {
        "colab": {
          "base_uri": "https://localhost:8080/"
        },
        "id": "8WG_9642AIZn",
        "outputId": "05f37028-9c37-4916-bc17-e69f05672524"
      },
      "source": [
        "print(torch.sigmoid(x_train.matmul(W)+b))\n",
        "hypo=torch.sigmoid(x_train.matmul(W)+b)\n",
        "prediction=hypo>=torch.FloatTensor([0.5])\n",
        "print(prediction)"
      ],
      "execution_count": 67,
      "outputs": [
        {
          "output_type": "stream",
          "name": "stdout",
          "text": [
            "tensor([[0.7471],\n",
            "        [0.8808],\n",
            "        [0.9181],\n",
            "        [0.9707],\n",
            "        [0.9859],\n",
            "        [0.9921]], grad_fn=<SigmoidBackward>)\n",
            "tensor([[True],\n",
            "        [True],\n",
            "        [True],\n",
            "        [True],\n",
            "        [True],\n",
            "        [True]])\n"
          ]
        }
      ]
    }
  ]
}