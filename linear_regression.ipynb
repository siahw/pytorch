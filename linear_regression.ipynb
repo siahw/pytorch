{
  "nbformat": 4,
  "nbformat_minor": 0,
  "metadata": {
    "colab": {
      "name": "Untitled1.ipynb",
      "provenance": [],
      "authorship_tag": "ABX9TyNJ71XuQjFErKlfUC8r3WBw",
      "include_colab_link": true
    },
    "kernelspec": {
      "name": "python3",
      "display_name": "Python 3"
    },
    "language_info": {
      "name": "python"
    }
  },
  "cells": [
    {
      "cell_type": "markdown",
      "metadata": {
        "id": "view-in-github",
        "colab_type": "text"
      },
      "source": [
        "<a href=\"https://colab.research.google.com/github/siahw/pytorch/blob/main/linear_regression.ipynb\" target=\"_parent\"><img src=\"https://colab.research.google.com/assets/colab-badge.svg\" alt=\"Open In Colab\"/></a>"
      ]
    },
    {
      "cell_type": "code",
      "metadata": {
        "id": "UlUWXNInwLX_"
      },
      "source": [
        "import numpy as np\n",
        "import torch\n",
        "import matplotlib.pyplot as plt #mat lab의 library\n",
        "%matplotlib inline\n",
        "import torch.nn as nn\n",
        "import torch.nn.functional as F\n",
        "import torch.optim as optim #학습과정계산"
      ],
      "execution_count": 45,
      "outputs": []
    },
    {
      "cell_type": "code",
      "metadata": {
        "colab": {
          "base_uri": "https://localhost:8080/"
        },
        "id": "XdzkrFRXyMp0",
        "outputId": "1e9e0c5e-eaa3-4ce8-df4e-a1de1defa29e"
      },
      "source": [
        "arr=[1,2,3,4,5]\n",
        "nparr=np.array(arr)\n",
        "nparr2=np.array((1,2,3,4,5))\n",
        "print(nparr)\n",
        "print(nparr2)"
      ],
      "execution_count": 4,
      "outputs": [
        {
          "output_type": "stream",
          "name": "stdout",
          "text": [
            "[1 2 3 4 5]\n",
            "[1 2 3 4 5]\n"
          ]
        }
      ]
    },
    {
      "cell_type": "code",
      "metadata": {
        "colab": {
          "base_uri": "https://localhost:8080/"
        },
        "id": "M03gfRwez2__",
        "outputId": "9a3418c1-2b55-43fc-8a2b-09798d9fc4a1"
      },
      "source": [
        "nparr3=np.array([nparr,nparr2])\n",
        "print(nparr3)\n",
        "r,c=np.shape(nparr3)\n",
        "print(r,c)\n",
        "for i in range(r):\n",
        "  for j in range(c):\n",
        "    print(nparr3[i][j])"
      ],
      "execution_count": 5,
      "outputs": [
        {
          "output_type": "stream",
          "name": "stdout",
          "text": [
            "[[1 2 3 4 5]\n",
            " [1 2 3 4 5]]\n",
            "2 5\n",
            "1\n",
            "2\n",
            "3\n",
            "4\n",
            "5\n",
            "1\n",
            "2\n",
            "3\n",
            "4\n",
            "5\n"
          ]
        }
      ]
    },
    {
      "cell_type": "code",
      "metadata": {
        "colab": {
          "base_uri": "https://localhost:8080/",
          "height": 282
        },
        "id": "gIT6-8z9035n",
        "outputId": "3a6e9b67-62ac-4ac2-8f9d-b6c226deb23c"
      },
      "source": [
        "x_train=torch.FloatTensor([[1],[2],[3]])\n",
        "y_train=torch.FloatTensor([[2],[4],[6]])\n",
        "plt.scatter(x_train,y_train)"
      ],
      "execution_count": 44,
      "outputs": [
        {
          "output_type": "execute_result",
          "data": {
            "text/plain": [
              "<matplotlib.collections.PathCollection at 0x7f2f0d2a3390>"
            ]
          },
          "metadata": {},
          "execution_count": 44
        },
        {
          "output_type": "display_data",
          "data": {
            "image/png": "[encoded data removed]",
            "text/plain": [
              "<Figure size 432x288 with 1 Axes>"
            ]
          },
          "metadata": {
            "needs_background": "light"
          }
        }
      ]
    },
    {
      "cell_type": "code",
      "metadata": {
        "id": "qZaQbsWG2GNK"
      },
      "source": [
        "x=np.linspace(0,10,11)\n",
        "y=np.linspace(0,10,11)"
      ],
      "execution_count": 28,
      "outputs": []
    },
    {
      "cell_type": "code",
      "metadata": {
        "colab": {
          "base_uri": "https://localhost:8080/",
          "height": 282
        },
        "id": "HiRgqtw62M_Y",
        "outputId": "39eb6c74-d0df-4745-a964-a0e470b38a03"
      },
      "source": [
        "plt.plot(x,y)"
      ],
      "execution_count": 29,
      "outputs": [
        {
          "output_type": "execute_result",
          "data": {
            "text/plain": [
              "[<matplotlib.lines.Line2D at 0x7f2f0d9d31d0>]"
            ]
          },
          "metadata": {},
          "execution_count": 29
        },
        {
          "output_type": "display_data",
          "data": {
            "image/png": "[encoded data removed]",
            "text/plain": [
              "<Figure size 432x288 with 1 Axes>"
            ]
          },
          "metadata": {
            "needs_background": "light"
          }
        }
      ]
    },
    {
      "cell_type": "code",
      "metadata": {
        "colab": {
          "base_uri": "https://localhost:8080/"
        },
        "id": "cmn-LRgA3wZx",
        "outputId": "2f913e4c-5f71-41b5-931b-88d51238cfc2"
      },
      "source": [
        "w=torch.zeros(1,requires_grad=True)#영인데 값이 바뀔 것weight\n",
        "print(w)\n",
        "b=torch.zeros(1,requires_grad=True)\n",
        "print(b)"
      ],
      "execution_count": 14,
      "outputs": [
        {
          "output_type": "stream",
          "name": "stdout",
          "text": [
            "tensor([0.], requires_grad=True)\n",
            "tensor([0.], requires_grad=True)\n"
          ]
        }
      ]
    },
    {
      "cell_type": "code",
      "metadata": {
        "id": "m6LG6YXS5nXE"
      },
      "source": [
        "hypothesis=x_train*w+b"
      ],
      "execution_count": 15,
      "outputs": []
    },
    {
      "cell_type": "code",
      "metadata": {
        "colab": {
          "base_uri": "https://localhost:8080/"
        },
        "id": "38Rh99Nq5sN6",
        "outputId": "bca98773-74dc-4e6a-9999-721f1fc2c76d"
      },
      "source": [
        "cost=torch.mean((hypothesis-y_train)**2)\n",
        "print(cost)"
      ],
      "execution_count": 16,
      "outputs": [
        {
          "output_type": "stream",
          "name": "stdout",
          "text": [
            "tensor(18.6667, grad_fn=<MeanBackward0>)\n"
          ]
        }
      ]
    },
    {
      "cell_type": "code",
      "metadata": {
        "id": "m36USrdf6P2B"
      },
      "source": [
        "optimizer=optim.SGD([w,b],lr=0.01)"
      ],
      "execution_count": 35,
      "outputs": []
    },
    {
      "cell_type": "code",
      "metadata": {
        "id": "3iF0LWi_7zlb"
      },
      "source": [
        "optimizer.zero_grad() #gradient초기화\n",
        "cost.backward()#cost기울기계산\n",
        "optimizer.step()#w와b업데이트"
      ],
      "execution_count": 36,
      "outputs": []
    },
    {
      "cell_type": "code",
      "metadata": {
        "id": "xmY5ZYX28Hyk"
      },
      "source": [
        "num_epochs =1000\n",
        "for epoch in range(num_epochs):\n",
        "  hypothesis=x_train*w+b\n",
        "  cost=torch.mean((hypothesis-y_train)**2)\n",
        "  optimizer.zero_grad()\n",
        "  cost.backward()\n",
        "  optimizer.step()\n",
        "\n",
        "if epoch%100==0:\n",
        "  print('Epoch{:4d}/{}w:{:},b:{:},cost:{:.6f}'.format(epoch,num_epochs,w.item(),b.item(),cost.item()))"
      ],
      "execution_count": 48,
      "outputs": []
    },
    {
      "cell_type": "code",
      "metadata": {
        "colab": {
          "base_uri": "https://localhost:8080/",
          "height": 282
        },
        "id": "hTB78pRYAR4o",
        "outputId": "e522a163-a5f1-44b5-807e-838270d364e9"
      },
      "source": [
        "w2=w.detach().numpy()\n",
        "b2=b.detach().numpy()\n",
        "plt.plot(x,w2*x+b2,'r')\n",
        "plt.scatter(x_train,y_train)"
      ],
      "execution_count": 47,
      "outputs": [
        {
          "output_type": "execute_result",
          "data": {
            "text/plain": [
              "<matplotlib.collections.PathCollection at 0x7f2f0d276f50>"
            ]
          },
          "metadata": {},
          "execution_count": 47
        },
        {
          "output_type": "display_data",
          "data": {
            "image/png": "[encoded data removed]",
            "text/plain": [
              "<Figure size 432x288 with 1 Axes>"
            ]
          },
          "metadata": {
            "needs_background": "light"
          }
        }
      ]
    }
  ]
}